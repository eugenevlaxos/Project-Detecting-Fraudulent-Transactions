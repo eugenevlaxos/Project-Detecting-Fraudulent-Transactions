{
 "cells": [
  {
   "cell_type": "markdown",
   "metadata": {},
   "source": [
    "# Load Libraries"
   ]
  },
  {
   "cell_type": "code",
   "execution_count": 1,
   "metadata": {},
   "outputs": [],
   "source": [
    "import pandas as pd\n",
    "import matplotlib.pyplot as plt\n",
    "from matplotlib.cbook import boxplot_stats\n",
    "import seaborn as sns\n",
    "import math\n",
    "import regex as re\n",
    "%matplotlib inline"
   ]
  },
  {
   "cell_type": "markdown",
   "metadata": {},
   "source": [
    "# Load Dataset"
   ]
  },
  {
   "cell_type": "code",
   "execution_count": 2,
   "metadata": {},
   "outputs": [],
   "source": [
    "df = pd.read_excel('sales.xlsx')"
   ]
  },
  {
   "cell_type": "markdown",
   "metadata": {},
   "source": [
    "# Analyze Dataset"
   ]
  },
  {
   "cell_type": "code",
   "execution_count": 3,
   "metadata": {},
   "outputs": [
    {
     "data": {
      "text/html": [
       "<div>\n",
       "<style scoped>\n",
       "    .dataframe tbody tr th:only-of-type {\n",
       "        vertical-align: middle;\n",
       "    }\n",
       "\n",
       "    .dataframe tbody tr th {\n",
       "        vertical-align: top;\n",
       "    }\n",
       "\n",
       "    .dataframe thead th {\n",
       "        text-align: right;\n",
       "    }\n",
       "</style>\n",
       "<table border=\"1\" class=\"dataframe\">\n",
       "  <thead>\n",
       "    <tr style=\"text-align: right;\">\n",
       "      <th></th>\n",
       "      <th>ID</th>\n",
       "      <th>Prod</th>\n",
       "      <th>Quant</th>\n",
       "      <th>Val</th>\n",
       "      <th>Insp</th>\n",
       "    </tr>\n",
       "  </thead>\n",
       "  <tbody>\n",
       "    <tr>\n",
       "      <th>0</th>\n",
       "      <td>v1</td>\n",
       "      <td>p1</td>\n",
       "      <td>182.0</td>\n",
       "      <td>1665.0</td>\n",
       "      <td>unkn</td>\n",
       "    </tr>\n",
       "    <tr>\n",
       "      <th>1</th>\n",
       "      <td>v2</td>\n",
       "      <td>p1</td>\n",
       "      <td>3072.0</td>\n",
       "      <td>8780.0</td>\n",
       "      <td>unkn</td>\n",
       "    </tr>\n",
       "    <tr>\n",
       "      <th>2</th>\n",
       "      <td>v3</td>\n",
       "      <td>p1</td>\n",
       "      <td>20393.0</td>\n",
       "      <td>76990.0</td>\n",
       "      <td>unkn</td>\n",
       "    </tr>\n",
       "    <tr>\n",
       "      <th>3</th>\n",
       "      <td>v4</td>\n",
       "      <td>p1</td>\n",
       "      <td>112.0</td>\n",
       "      <td>1100.0</td>\n",
       "      <td>unkn</td>\n",
       "    </tr>\n",
       "    <tr>\n",
       "      <th>4</th>\n",
       "      <td>v3</td>\n",
       "      <td>p1</td>\n",
       "      <td>6164.0</td>\n",
       "      <td>20260.0</td>\n",
       "      <td>unkn</td>\n",
       "    </tr>\n",
       "  </tbody>\n",
       "</table>\n",
       "</div>"
      ],
      "text/plain": [
       "   ID Prod    Quant      Val  Insp\n",
       "0  v1   p1    182.0   1665.0  unkn\n",
       "1  v2   p1   3072.0   8780.0  unkn\n",
       "2  v3   p1  20393.0  76990.0  unkn\n",
       "3  v4   p1    112.0   1100.0  unkn\n",
       "4  v3   p1   6164.0  20260.0  unkn"
      ]
     },
     "execution_count": 3,
     "metadata": {},
     "output_type": "execute_result"
    }
   ],
   "source": [
    "df.head()"
   ]
  },
  {
   "cell_type": "markdown",
   "metadata": {},
   "source": [
    "\n",
    "\n",
    "As we can see, the dataset has 5 columns:\n",
    "\n",
    "<ul>\n",
    "    <li> <b>ID</b> – a factor with the ID of the salesman. </li>\n",
    "    <li> <b>Prod</b> – a factor indicating the ID of the sold product. </li>\n",
    "    <li> <b>Quant</b> – the number of reported sold units of the product. </li>\n",
    "    <li> <b>Val</b> – the reported total monetary value of the sale. </li>\n",
    "    <li> <b>Insp</b> – a factor with three possible values: ok if the transaction was </li>\n",
    "inspected and considered valid by the company, fraud if the transaction\n",
    "was found to be fraudulent, and unkn if the transaction was not inspected </li>\n",
    "    </ul>\n"
   ]
  },
  {
   "cell_type": "code",
   "execution_count": 4,
   "metadata": {
    "scrolled": true
   },
   "outputs": [
    {
     "name": "stdout",
     "output_type": "stream",
     "text": [
      "<class 'pandas.core.frame.DataFrame'>\n",
      "RangeIndex: 401146 entries, 0 to 401145\n",
      "Data columns (total 5 columns):\n",
      " #   Column  Non-Null Count   Dtype  \n",
      "---  ------  --------------   -----  \n",
      " 0   ID      401146 non-null  object \n",
      " 1   Prod    401146 non-null  object \n",
      " 2   Quant   387304 non-null  float64\n",
      " 3   Val     399964 non-null  float64\n",
      " 4   Insp    401146 non-null  object \n",
      "dtypes: float64(2), object(3)\n",
      "memory usage: 15.3+ MB\n"
     ]
    }
   ],
   "source": [
    "df.info()"
   ]
  },
  {
   "cell_type": "markdown",
   "metadata": {},
   "source": [
    "\n",
    "We can see that 'ID' and 'Prod' columns are object type which will not help us order our results by ID or Product number. Also, 'Insp' columns is object type which is something weird as we know that this is our target column and should be category type.\n"
   ]
  },
  {
   "cell_type": "code",
   "execution_count": 5,
   "metadata": {},
   "outputs": [],
   "source": [
    "df.ID = df.ID.str[1:].astype('int')\n",
    "df.Prod = df.Prod.str[1:].astype('int')\n",
    "df.Insp = df.Insp.astype('category')"
   ]
  },
  {
   "cell_type": "code",
   "execution_count": 6,
   "metadata": {},
   "outputs": [
    {
     "name": "stdout",
     "output_type": "stream",
     "text": [
      "<class 'pandas.core.frame.DataFrame'>\n",
      "RangeIndex: 401146 entries, 0 to 401145\n",
      "Data columns (total 5 columns):\n",
      " #   Column  Non-Null Count   Dtype   \n",
      "---  ------  --------------   -----   \n",
      " 0   ID      401146 non-null  int32   \n",
      " 1   Prod    401146 non-null  int32   \n",
      " 2   Quant   387304 non-null  float64 \n",
      " 3   Val     399964 non-null  float64 \n",
      " 4   Insp    401146 non-null  category\n",
      "dtypes: category(1), float64(2), int32(2)\n",
      "memory usage: 9.6 MB\n"
     ]
    }
   ],
   "source": [
    "df.info()"
   ]
  },
  {
   "cell_type": "markdown",
   "metadata": {},
   "source": [
    "\n",
    "We can now see that all columns are the desired dtype. We can continue with our analysis.\n"
   ]
  },
  {
   "cell_type": "code",
   "execution_count": 7,
   "metadata": {
    "scrolled": false
   },
   "outputs": [
    {
     "data": {
      "text/html": [
       "<div>\n",
       "<style scoped>\n",
       "    .dataframe tbody tr th:only-of-type {\n",
       "        vertical-align: middle;\n",
       "    }\n",
       "\n",
       "    .dataframe tbody tr th {\n",
       "        vertical-align: top;\n",
       "    }\n",
       "\n",
       "    .dataframe thead th {\n",
       "        text-align: right;\n",
       "    }\n",
       "</style>\n",
       "<table border=\"1\" class=\"dataframe\">\n",
       "  <thead>\n",
       "    <tr style=\"text-align: right;\">\n",
       "      <th></th>\n",
       "      <th>ID</th>\n",
       "      <th>Prod</th>\n",
       "      <th>Quant</th>\n",
       "      <th>Val</th>\n",
       "    </tr>\n",
       "  </thead>\n",
       "  <tbody>\n",
       "    <tr>\n",
       "      <th>count</th>\n",
       "      <td>401146.000000</td>\n",
       "      <td>401146.000000</td>\n",
       "      <td>3.873040e+05</td>\n",
       "      <td>3.999640e+05</td>\n",
       "    </tr>\n",
       "    <tr>\n",
       "      <th>mean</th>\n",
       "      <td>1882.266806</td>\n",
       "      <td>2180.357137</td>\n",
       "      <td>8.441996e+03</td>\n",
       "      <td>1.461707e+04</td>\n",
       "    </tr>\n",
       "    <tr>\n",
       "      <th>std</th>\n",
       "      <td>1598.946302</td>\n",
       "      <td>1113.129835</td>\n",
       "      <td>9.183510e+05</td>\n",
       "      <td>6.971259e+04</td>\n",
       "    </tr>\n",
       "    <tr>\n",
       "      <th>min</th>\n",
       "      <td>1.000000</td>\n",
       "      <td>1.000000</td>\n",
       "      <td>1.000000e+02</td>\n",
       "      <td>1.005000e+03</td>\n",
       "    </tr>\n",
       "    <tr>\n",
       "      <th>25%</th>\n",
       "      <td>589.000000</td>\n",
       "      <td>1274.000000</td>\n",
       "      <td>1.070000e+02</td>\n",
       "      <td>1.345000e+03</td>\n",
       "    </tr>\n",
       "    <tr>\n",
       "      <th>50%</th>\n",
       "      <td>1303.000000</td>\n",
       "      <td>2049.000000</td>\n",
       "      <td>1.680000e+02</td>\n",
       "      <td>2.675000e+03</td>\n",
       "    </tr>\n",
       "    <tr>\n",
       "      <th>75%</th>\n",
       "      <td>2930.000000</td>\n",
       "      <td>3098.000000</td>\n",
       "      <td>7.380000e+02</td>\n",
       "      <td>8.680000e+03</td>\n",
       "    </tr>\n",
       "    <tr>\n",
       "      <th>max</th>\n",
       "      <td>6070.000000</td>\n",
       "      <td>4548.000000</td>\n",
       "      <td>4.738839e+08</td>\n",
       "      <td>4.642955e+06</td>\n",
       "    </tr>\n",
       "  </tbody>\n",
       "</table>\n",
       "</div>"
      ],
      "text/plain": [
       "                  ID           Prod         Quant           Val\n",
       "count  401146.000000  401146.000000  3.873040e+05  3.999640e+05\n",
       "mean     1882.266806    2180.357137  8.441996e+03  1.461707e+04\n",
       "std      1598.946302    1113.129835  9.183510e+05  6.971259e+04\n",
       "min         1.000000       1.000000  1.000000e+02  1.005000e+03\n",
       "25%       589.000000    1274.000000  1.070000e+02  1.345000e+03\n",
       "50%      1303.000000    2049.000000  1.680000e+02  2.675000e+03\n",
       "75%      2930.000000    3098.000000  7.380000e+02  8.680000e+03\n",
       "max      6070.000000    4548.000000  4.738839e+08  4.642955e+06"
      ]
     },
     "execution_count": 7,
     "metadata": {},
     "output_type": "execute_result"
    }
   ],
   "source": [
    "df.describe()"
   ]
  },
  {
   "cell_type": "markdown",
   "metadata": {},
   "source": [
    "Check how many rows have the Product Quantity or the Product Value missing:\n",
    "    "
   ]
  },
  {
   "cell_type": "code",
   "execution_count": 8,
   "metadata": {},
   "outputs": [
    {
     "name": "stdout",
     "output_type": "stream",
     "text": [
      "Quant NA rows: 13842\n",
      "Val NA rows: 1182\n"
     ]
    }
   ],
   "source": [
    "print('Quant NA rows:', df.Quant.isna().sum())\n",
    "print('Val NA rows:', df.Val.isna().sum())"
   ]
  },
  {
   "cell_type": "markdown",
   "metadata": {},
   "source": [
    "\n",
    "We can also check which salesperson or product has the most appereances in our dataset:\n"
   ]
  },
  {
   "cell_type": "code",
   "execution_count": 9,
   "metadata": {
    "scrolled": true
   },
   "outputs": [
    {
     "data": {
      "text/plain": [
       "431     10159\n",
       "54       6017\n",
       "426      3902\n",
       "1679     3016\n",
       "1085     3001\n",
       "Name: ID, dtype: int64"
      ]
     },
     "execution_count": 9,
     "metadata": {},
     "output_type": "execute_result"
    }
   ],
   "source": [
    "df.ID.value_counts().head()"
   ]
  },
  {
   "cell_type": "code",
   "execution_count": 10,
   "metadata": {
    "scrolled": true
   },
   "outputs": [
    {
     "data": {
      "text/plain": [
       "1125    3923\n",
       "3774    1824\n",
       "1437    1720\n",
       "1917    1702\n",
       "4089    1598\n",
       "Name: Prod, dtype: int64"
      ]
     },
     "execution_count": 10,
     "metadata": {},
     "output_type": "execute_result"
    }
   ],
   "source": [
    "df.Prod.value_counts().head()"
   ]
  },
  {
   "cell_type": "markdown",
   "metadata": {},
   "source": [
    "Something that is of major importance is how many transactions are categorized as 'ok', 'fraud' and 'unkn':\n",
    "    "
   ]
  },
  {
   "cell_type": "code",
   "execution_count": 11,
   "metadata": {},
   "outputs": [
    {
     "data": {
      "text/plain": [
       "unkn     385414\n",
       "ok        14462\n",
       "fraud      1270\n",
       "Name: Insp, dtype: int64"
      ]
     },
     "execution_count": 11,
     "metadata": {},
     "output_type": "execute_result"
    }
   ],
   "source": [
    "df.Insp.value_counts()"
   ]
  },
  {
   "cell_type": "code",
   "execution_count": 12,
   "metadata": {
    "scrolled": true
   },
   "outputs": [
    {
     "data": {
      "text/plain": [
       "unkn     96.078236\n",
       "ok        3.605171\n",
       "fraud     0.316593\n",
       "Name: Insp, dtype: float64"
      ]
     },
     "execution_count": 12,
     "metadata": {},
     "output_type": "execute_result"
    }
   ],
   "source": [
    "(df.Insp.value_counts()/df.shape[0] * 100)"
   ]
  },
  {
   "cell_type": "markdown",
   "metadata": {},
   "source": [
    "We can observe that most of the transactions are labeled as 'Unknown' which is something that may struggle us. Another important mention here is that we have a strong imbalance between fraud and non-fraud transactions. This is something we should care about because some particular machine learning algorithms may not work well on such cases.\n"
   ]
  },
  {
   "cell_type": "code",
   "execution_count": 14,
   "metadata": {},
   "outputs": [
    {
     "name": "stdout",
     "output_type": "stream",
     "text": [
      "Quant and Val NA rows: 888\n"
     ]
    }
   ],
   "source": [
    "print('Quant and Val NA rows:', (df.Quant.isna() & df.Val.isna()).sum())"
   ]
  },
  {
   "cell_type": "markdown",
   "metadata": {},
   "source": [
    "\n",
    "plot of a barplot that shows the number of reports per salesperson.\n"
   ]
  },
  {
   "cell_type": "code",
   "execution_count": 15,
   "metadata": {
    "scrolled": true
   },
   "outputs": [
    {
     "data": {
      "text/plain": [
       "<BarContainer object of 6016 artists>"
      ]
     },
     "execution_count": 15,
     "metadata": {},
     "output_type": "execute_result"
    },
    {
     "data": {
      "image/png": "[encoded data removed]",
      "text/plain": [
       "<Figure size 432x288 with 1 Axes>"
      ]
     },
     "metadata": {
      "needs_background": "light"
     },
     "output_type": "display_data"
    }
   ],
   "source": [
    "id_table = df.ID.value_counts()\n",
    "plt.bar(x=id_table.index, height=id_table, width=100)"
   ]
  },
  {
   "cell_type": "markdown",
   "metadata": {},
   "source": [
    "\n",
    "We can clearly observer that the numbers diverse across the salespeople. Let's do the same barplot for products.\n",
    "    \n"
   ]
  },
  {
   "cell_type": "code",
   "execution_count": 16,
   "metadata": {},
   "outputs": [
    {
     "data": {
      "text/plain": [
       "<BarContainer object of 4548 artists>"
      ]
     },
     "execution_count": 16,
     "metadata": {},
     "output_type": "execute_result"
    },
    {
     "data": {
      "image/png": "[encoded data removed]",
      "text/plain": [
       "<Figure size 432x288 with 1 Axes>"
      ]
     },
     "metadata": {
      "needs_background": "light"
     },
     "output_type": "display_data"
    }
   ],
   "source": [
    "prod_table = df.Prod.value_counts()\n",
    "plt.bar(x=prod_table.index, height=prod_table, width=100)"
   ]
  },
  {
   "cell_type": "markdown",
   "metadata": {},
   "source": [
    "Again, we observe a strong variability.\n"
   ]
  },
  {
   "cell_type": "markdown",
   "metadata": {},
   "source": [
    "\n",
    "Something that will help us with our analysis is to calculate a Unit Price for each product. We can then use this value by calculating a median typical price for each product. We can assume that a product price should follow a normal distribution, so abnormal prices will be easy to find.\n",
    "    \n"
   ]
  },
  {
   "cell_type": "code",
   "execution_count": 17,
   "metadata": {},
   "outputs": [],
   "source": [
    "df['UnitPrice'] = df.Val/df.Quant"
   ]
  },
  {
   "cell_type": "markdown",
   "metadata": {},
   "source": [
    "\n",
    "\n",
    "The unit price should be relatively constant over the transactions of the\n",
    "same product. When analyzing transactions over a short period of time, one\n",
    "does not expect strong variations of the unit price of the products.\n",
    "If we check the distribution of the unit price, for example,\n"
   ]
  },
  {
   "cell_type": "code",
   "execution_count": 18,
   "metadata": {},
   "outputs": [
    {
     "data": {
      "text/plain": [
       "count    387010.000000\n",
       "mean         20.297586\n",
       "std         111.032561\n",
       "min           0.000002\n",
       "25%           8.460324\n",
       "50%          11.886792\n",
       "75%          19.112277\n",
       "max       26460.700000\n",
       "Name: UnitPrice, dtype: float64"
      ]
     },
     "execution_count": 18,
     "metadata": {},
     "output_type": "execute_result"
    }
   ],
   "source": [
    "df.UnitPrice.describe()"
   ]
  },
  {
   "cell_type": "markdown",
   "metadata": {},
   "source": [
    "\n",
    "we can again observe a rather marked variability."
   ]
  },
  {
   "cell_type": "code",
   "execution_count": 19,
   "metadata": {},
   "outputs": [
    {
     "name": "stdout",
     "output_type": "stream",
     "text": [
      "Unit Price NA: 14136\n"
     ]
    }
   ],
   "source": [
    "print('Unit Price NA:', df.UnitPrice.isna().sum())"
   ]
  },
  {
   "cell_type": "markdown",
   "metadata": {},
   "source": [
    "\n",
    "It may be interesting to check what the top most expensive and cheap\n",
    "products are. We will group the rows by Product Number and calculate the median Unit Price for each one. We can then order the rows in ascending and descending order.\n"
   ]
  },
  {
   "cell_type": "code",
   "execution_count": 20,
   "metadata": {},
   "outputs": [
    {
     "data": {
      "text/html": [
       "<div>\n",
       "<style scoped>\n",
       "    .dataframe tbody tr th:only-of-type {\n",
       "        vertical-align: middle;\n",
       "    }\n",
       "\n",
       "    .dataframe tbody tr th {\n",
       "        vertical-align: top;\n",
       "    }\n",
       "\n",
       "    .dataframe thead th {\n",
       "        text-align: right;\n",
       "    }\n",
       "</style>\n",
       "<table border=\"1\" class=\"dataframe\">\n",
       "  <thead>\n",
       "    <tr style=\"text-align: right;\">\n",
       "      <th></th>\n",
       "      <th>Expensive</th>\n",
       "      <th>Cheap</th>\n",
       "    </tr>\n",
       "  </thead>\n",
       "  <tbody>\n",
       "    <tr>\n",
       "      <th>0</th>\n",
       "      <td>3689</td>\n",
       "      <td>560</td>\n",
       "    </tr>\n",
       "    <tr>\n",
       "      <th>1</th>\n",
       "      <td>2453</td>\n",
       "      <td>559</td>\n",
       "    </tr>\n",
       "    <tr>\n",
       "      <th>2</th>\n",
       "      <td>2452</td>\n",
       "      <td>4195</td>\n",
       "    </tr>\n",
       "    <tr>\n",
       "      <th>3</th>\n",
       "      <td>2456</td>\n",
       "      <td>601</td>\n",
       "    </tr>\n",
       "    <tr>\n",
       "      <th>4</th>\n",
       "      <td>2459</td>\n",
       "      <td>563</td>\n",
       "    </tr>\n",
       "  </tbody>\n",
       "</table>\n",
       "</div>"
      ],
      "text/plain": [
       "   Expensive  Cheap\n",
       "0       3689    560\n",
       "1       2453    559\n",
       "2       2452   4195\n",
       "3       2456    601\n",
       "4       2459    563"
      ]
     },
     "execution_count": 20,
     "metadata": {},
     "output_type": "execute_result"
    }
   ],
   "source": [
    "topP = pd.DataFrame({'Expensive':df.groupby('Prod').median().sort_values('UnitPrice', ascending=False).dropna().index, \n",
    "             'Cheap':df.groupby('Prod').median().sort_values('UnitPrice').dropna().index})\n",
    "topP.head()"
   ]
  },
  {
   "cell_type": "markdown",
   "metadata": {},
   "source": [
    "\n",
    "\n",
    "We can confirm the completely different price distribution of the top prod\u0002ucts using a box plot of their unit prices:\n",
    "\n"
   ]
  },
  {
   "cell_type": "code",
   "execution_count": 21,
   "metadata": {},
   "outputs": [],
   "source": [
    "tops = df.loc[df.Prod.isin(topP.iloc[0])]"
   ]
  },
  {
   "cell_type": "code",
   "execution_count": 22,
   "metadata": {},
   "outputs": [
    {
     "data": {
      "image/png": "[encoded data removed]",
      "text/plain": [
       "<Figure size 432x288 with 1 Axes>"
      ]
     },
     "metadata": {
      "needs_background": "light"
     },
     "output_type": "display_data"
    }
   ],
   "source": [
    "bx = sns.boxplot(y='UnitPrice', x='Prod', data=tops).set_yscale('log')"
   ]
  },
  {
   "cell_type": "markdown",
   "metadata": {},
   "source": [
    "\n",
    "The scales of the prices of the most expensive and cheapest\n",
    "products are rather different. Because of this, we have used a log scale in the\n",
    "graph to avoid the values of the cheapest product becoming indistinguishable.\n",
    "    \n",
    "We can carry out a similar analysis to discover which salespeople are the\n",
    "ones who bring more (less) money to the company,\n",
    "\n"
   ]
  },
  {
   "cell_type": "code",
   "execution_count": 23,
   "metadata": {},
   "outputs": [
    {
     "data": {
      "text/html": [
       "<div>\n",
       "<style scoped>\n",
       "    .dataframe tbody tr th:only-of-type {\n",
       "        vertical-align: middle;\n",
       "    }\n",
       "\n",
       "    .dataframe tbody tr th {\n",
       "        vertical-align: top;\n",
       "    }\n",
       "\n",
       "    .dataframe thead th {\n",
       "        text-align: right;\n",
       "    }\n",
       "</style>\n",
       "<table border=\"1\" class=\"dataframe\">\n",
       "  <thead>\n",
       "    <tr style=\"text-align: right;\">\n",
       "      <th></th>\n",
       "      <th>Most</th>\n",
       "      <th>Least</th>\n",
       "    </tr>\n",
       "  </thead>\n",
       "  <tbody>\n",
       "    <tr>\n",
       "      <th>0</th>\n",
       "      <td>431</td>\n",
       "      <td>3355</td>\n",
       "    </tr>\n",
       "    <tr>\n",
       "      <th>1</th>\n",
       "      <td>54</td>\n",
       "      <td>6069</td>\n",
       "    </tr>\n",
       "    <tr>\n",
       "      <th>2</th>\n",
       "      <td>19</td>\n",
       "      <td>5876</td>\n",
       "    </tr>\n",
       "    <tr>\n",
       "      <th>3</th>\n",
       "      <td>4520</td>\n",
       "      <td>6058</td>\n",
       "    </tr>\n",
       "    <tr>\n",
       "      <th>4</th>\n",
       "      <td>955</td>\n",
       "      <td>4515</td>\n",
       "    </tr>\n",
       "  </tbody>\n",
       "</table>\n",
       "</div>"
      ],
      "text/plain": [
       "   Most  Least\n",
       "0   431   3355\n",
       "1    54   6069\n",
       "2    19   5876\n",
       "3  4520   6058\n",
       "4   955   4515"
      ]
     },
     "execution_count": 23,
     "metadata": {},
     "output_type": "execute_result"
    }
   ],
   "source": [
    "scoresSs = pd.DataFrame({'Most':df.groupby('ID').sum().sort_values('Val', ascending=False).dropna().index, \n",
    "             'Least':df.groupby('ID').sum().sort_values('Val').dropna().index})\n",
    "scoresSs.head()"
   ]
  },
  {
   "cell_type": "code",
   "execution_count": 25,
   "metadata": {},
   "outputs": [
    {
     "name": "stdout",
     "output_type": "stream",
     "text": [
      "38.33%\n",
      "1.99%\n"
     ]
    }
   ],
   "source": [
    "print(f'{sum(df.Val.dropna().loc[df.ID.isin(scoresSs.loc[0:99].Most)])/sum(df.Val.dropna()) * 100:.2f}%')\n",
    "print(f'{sum(df.Val.dropna().loc[df.ID.isin(scoresSs.loc[0:1999].Least)])/sum(df.Val.dropna()) * 100:.2f}%')"
   ]
  },
  {
   "cell_type": "markdown",
   "metadata": {},
   "source": [
    "\n",
    "\n",
    "It may be interesting to note that the top 100 salespeople on this list\n",
    "account for almost 40% of the income of the company, while the bottom 2,000\n",
    "out of the 6,016 salespeople generate less than 2% of the income.\n",
    "    \n",
    "Let's carry out a similar analysis in terms of the quantity that is sold for\n",
    "each product:\n"
   ]
  },
  {
   "cell_type": "code",
   "execution_count": 27,
   "metadata": {},
   "outputs": [
    {
     "data": {
      "text/html": [
       "<div>\n",
       "<style scoped>\n",
       "    .dataframe tbody tr th:only-of-type {\n",
       "        vertical-align: middle;\n",
       "    }\n",
       "\n",
       "    .dataframe tbody tr th {\n",
       "        vertical-align: top;\n",
       "    }\n",
       "\n",
       "    .dataframe thead th {\n",
       "        text-align: right;\n",
       "    }\n",
       "</style>\n",
       "<table border=\"1\" class=\"dataframe\">\n",
       "  <thead>\n",
       "    <tr style=\"text-align: right;\">\n",
       "      <th></th>\n",
       "      <th>Most</th>\n",
       "      <th>Least</th>\n",
       "    </tr>\n",
       "  </thead>\n",
       "  <tbody>\n",
       "    <tr>\n",
       "      <th>0</th>\n",
       "      <td>2516</td>\n",
       "      <td>2443</td>\n",
       "    </tr>\n",
       "    <tr>\n",
       "      <th>1</th>\n",
       "      <td>3599</td>\n",
       "      <td>2442</td>\n",
       "    </tr>\n",
       "    <tr>\n",
       "      <th>2</th>\n",
       "      <td>314</td>\n",
       "      <td>1653</td>\n",
       "    </tr>\n",
       "    <tr>\n",
       "      <th>3</th>\n",
       "      <td>569</td>\n",
       "      <td>4101</td>\n",
       "    </tr>\n",
       "    <tr>\n",
       "      <th>4</th>\n",
       "      <td>319</td>\n",
       "      <td>3678</td>\n",
       "    </tr>\n",
       "  </tbody>\n",
       "</table>\n",
       "</div>"
      ],
      "text/plain": [
       "   Most  Least\n",
       "0  2516   2443\n",
       "1  3599   2442\n",
       "2   314   1653\n",
       "3   569   4101\n",
       "4   319   3678"
      ]
     },
     "execution_count": 27,
     "metadata": {},
     "output_type": "execute_result"
    }
   ],
   "source": [
    "scoresPs = pd.DataFrame({'Most':df.groupby('Prod').sum().sort_values('Quant', ascending=False).dropna().index, \n",
    "             'Least':df.groupby('Prod').sum().sort_values('Quant').dropna().index})\n",
    "scoresPs.head()"
   ]
  },
  {
   "cell_type": "code",
   "execution_count": 28,
   "metadata": {},
   "outputs": [
    {
     "name": "stdout",
     "output_type": "stream",
     "text": [
      "74.63%\n",
      "8.94%\n"
     ]
    }
   ],
   "source": [
    "print(f'{sum(df.Quant.dropna().loc[df.Prod.isin(scoresPs.loc[0:99].Most)])/sum(df.Quant.dropna()) * 100:.2f}%')\n",
    "print(f'{sum(df.Quant.dropna().loc[df.Prod.isin(scoresPs.loc[0:3999].Least)])/sum(df.Quant.dropna()) * 100:.2f}%')"
   ]
  },
  {
   "cell_type": "markdown",
   "metadata": {},
   "source": [
    "\n",
    "\n",
    "It is shown that the results are even more unbalanced. From the 4,548 products, 4,000 represent less than 10% of the sales volume,\n",
    "with the top 100 representing nearly 75%.\n",
    "    \n",
    "  "
   ]
  },
  {
   "cell_type": "markdown",
   "metadata": {},
   "source": [
    "\n",
    "\n",
    "One of the main assumptions we will be making in our analysis to find abnormal transaction reports is that the unit price of any product should follow\n",
    "a near-normal distribution. This means that we expect that the transactions of\n",
    "the same product will have roughly the same unit price with some small variability, possibly caused by some strategies of the salespeople to achieve their\n",
    "commercial goals.\n",
    "\n",
    "The following code\n",
    "determines the number of outliers (according to the above definition) of each\n",
    "product:    \n",
    "\n"
   ]
  },
  {
   "cell_type": "code",
   "execution_count": 29,
   "metadata": {},
   "outputs": [
    {
     "data": {
      "text/html": [
       "<div>\n",
       "<style scoped>\n",
       "    .dataframe tbody tr th:only-of-type {\n",
       "        vertical-align: middle;\n",
       "    }\n",
       "\n",
       "    .dataframe tbody tr th {\n",
       "        vertical-align: top;\n",
       "    }\n",
       "\n",
       "    .dataframe thead th {\n",
       "        text-align: right;\n",
       "    }\n",
       "</style>\n",
       "<table border=\"1\" class=\"dataframe\">\n",
       "  <thead>\n",
       "    <tr style=\"text-align: right;\">\n",
       "      <th></th>\n",
       "      <th>Outliers</th>\n",
       "    </tr>\n",
       "  </thead>\n",
       "  <tbody>\n",
       "    <tr>\n",
       "      <th>1125</th>\n",
       "      <td>376</td>\n",
       "    </tr>\n",
       "    <tr>\n",
       "      <th>1437</th>\n",
       "      <td>181</td>\n",
       "    </tr>\n",
       "    <tr>\n",
       "      <th>2273</th>\n",
       "      <td>165</td>\n",
       "    </tr>\n",
       "    <tr>\n",
       "      <th>1918</th>\n",
       "      <td>156</td>\n",
       "    </tr>\n",
       "    <tr>\n",
       "      <th>1917</th>\n",
       "      <td>156</td>\n",
       "    </tr>\n",
       "    <tr>\n",
       "      <th>4089</th>\n",
       "      <td>137</td>\n",
       "    </tr>\n",
       "    <tr>\n",
       "      <th>538</th>\n",
       "      <td>129</td>\n",
       "    </tr>\n",
       "    <tr>\n",
       "      <th>3774</th>\n",
       "      <td>125</td>\n",
       "    </tr>\n",
       "    <tr>\n",
       "      <th>2742</th>\n",
       "      <td>120</td>\n",
       "    </tr>\n",
       "    <tr>\n",
       "      <th>3338</th>\n",
       "      <td>117</td>\n",
       "    </tr>\n",
       "  </tbody>\n",
       "</table>\n",
       "</div>"
      ],
      "text/plain": [
       "      Outliers\n",
       "1125       376\n",
       "1437       181\n",
       "2273       165\n",
       "1918       156\n",
       "1917       156\n",
       "4089       137\n",
       "538        129\n",
       "3774       125\n",
       "2742       120\n",
       "3338       117"
      ]
     },
     "execution_count": 29,
     "metadata": {},
     "output_type": "execute_result"
    }
   ],
   "source": [
    "stats = df.dropna().groupby('Prod').apply(lambda x: boxplot_stats(x.UnitPrice))\n",
    "pattern = \"array\\((.*?)\\)\"\n",
    "\n",
    "outliers = {}\n",
    "\n",
    "for i in range(1,len(stats)):\n",
    "    try:\n",
    "        string = \"\"\n",
    "        if (re.search(pattern, str(stats[i]), flags = re.DOTALL)):\n",
    "            string = re.search(pattern, str(stats[i]), flags = re.DOTALL).group(1)\n",
    "            outliers[i] = len(list(string.split(\",\")))\n",
    "    except KeyError:\n",
    "        continue\n",
    "    \n",
    "out = pd.DataFrame.from_dict(outliers, orient='index')\n",
    "out.columns = ['Outliers']\n",
    "out.sort_values('Outliers', ascending=False)[0:10]"
   ]
  },
  {
   "cell_type": "markdown",
   "metadata": {},
   "source": [
    "# Handle Unknown Data"
   ]
  },
  {
   "cell_type": "markdown",
   "metadata": {},
   "source": [
    "\n",
    "\n",
    "As we mentioned earlier, we have 888 rows in our dataset with both Value and Quantity missing. Removing all 888 cases may be problematic if this leads to removing most transactions of some product or salesperson. Let us check this. The salespeople and products involved in the problematic transactions are the following:\n"
   ]
  },
  {
   "cell_type": "code",
   "execution_count": 30,
   "metadata": {},
   "outputs": [
    {
     "data": {
      "text/html": [
       "<div>\n",
       "<style scoped>\n",
       "    .dataframe tbody tr th:only-of-type {\n",
       "        vertical-align: middle;\n",
       "    }\n",
       "\n",
       "    .dataframe tbody tr th {\n",
       "        vertical-align: top;\n",
       "    }\n",
       "\n",
       "    .dataframe thead th {\n",
       "        text-align: right;\n",
       "    }\n",
       "</style>\n",
       "<table border=\"1\" class=\"dataframe\">\n",
       "  <thead>\n",
       "    <tr style=\"text-align: right;\">\n",
       "      <th></th>\n",
       "      <th>ID</th>\n",
       "      <th>Prod</th>\n",
       "    </tr>\n",
       "  </thead>\n",
       "  <tbody>\n",
       "    <tr>\n",
       "      <th>3227</th>\n",
       "      <td>29</td>\n",
       "      <td>808</td>\n",
       "    </tr>\n",
       "    <tr>\n",
       "      <th>4166</th>\n",
       "      <td>453</td>\n",
       "      <td>921</td>\n",
       "    </tr>\n",
       "    <tr>\n",
       "      <th>5102</th>\n",
       "      <td>431</td>\n",
       "      <td>1035</td>\n",
       "    </tr>\n",
       "    <tr>\n",
       "      <th>5211</th>\n",
       "      <td>431</td>\n",
       "      <td>1</td>\n",
       "    </tr>\n",
       "    <tr>\n",
       "      <th>5213</th>\n",
       "      <td>431</td>\n",
       "      <td>1</td>\n",
       "    </tr>\n",
       "    <tr>\n",
       "      <th>...</th>\n",
       "      <td>...</td>\n",
       "      <td>...</td>\n",
       "    </tr>\n",
       "    <tr>\n",
       "      <th>396552</th>\n",
       "      <td>4834</td>\n",
       "      <td>3801</td>\n",
       "    </tr>\n",
       "    <tr>\n",
       "      <th>396751</th>\n",
       "      <td>2719</td>\n",
       "      <td>3825</td>\n",
       "    </tr>\n",
       "    <tr>\n",
       "      <th>400010</th>\n",
       "      <td>1247</td>\n",
       "      <td>4088</td>\n",
       "    </tr>\n",
       "    <tr>\n",
       "      <th>400094</th>\n",
       "      <td>1085</td>\n",
       "      <td>4089</td>\n",
       "    </tr>\n",
       "    <tr>\n",
       "      <th>400368</th>\n",
       "      <td>1085</td>\n",
       "      <td>4091</td>\n",
       "    </tr>\n",
       "  </tbody>\n",
       "</table>\n",
       "<p>888 rows × 2 columns</p>\n",
       "</div>"
      ],
      "text/plain": [
       "          ID  Prod\n",
       "3227      29   808\n",
       "4166     453   921\n",
       "5102     431  1035\n",
       "5211     431     1\n",
       "5213     431     1\n",
       "...      ...   ...\n",
       "396552  4834  3801\n",
       "396751  2719  3825\n",
       "400010  1247  4088\n",
       "400094  1085  4089\n",
       "400368  1085  4091\n",
       "\n",
       "[888 rows x 2 columns]"
      ]
     },
     "execution_count": 30,
     "metadata": {},
     "output_type": "execute_result"
    }
   ],
   "source": [
    "totS = df.ID.value_counts()\n",
    "totP = df.Prod.value_counts()\n",
    "\n",
    "nas = df.loc[df.Quant.isna() & df.Val.isna()][['ID', 'Prod']]\n",
    "nas"
   ]
  },
  {
   "cell_type": "markdown",
   "metadata": {},
   "source": [
    "\n",
    "\n",
    "We now obtain the salespeople with a larger proportion of transactions\n",
    "with unknowns on both Val and Quant:\n"
   ]
  },
  {
   "cell_type": "code",
   "execution_count": 31,
   "metadata": {},
   "outputs": [
    {
     "data": {
      "text/plain": [
       "1237    13.793103\n",
       "4254     9.523810\n",
       "4038     8.333333\n",
       "5248     8.333333\n",
       "3666     6.666667\n",
       "4433     6.250000\n",
       "4170     5.555556\n",
       "4926     5.555556\n",
       "4664     5.494505\n",
       "4642     4.761905\n",
       "Name: ID, dtype: float64"
      ]
     },
     "execution_count": 31,
     "metadata": {},
     "output_type": "execute_result"
    }
   ],
   "source": [
    "propS = 100 * nas.ID.value_counts()/totS\n",
    "propS.sort_values(ascending=False)[0:10]"
   ]
  },
  {
   "cell_type": "markdown",
   "metadata": {},
   "source": [
    "\n",
    "\n",
    "Ιt seems reasonable to delete these transactions, at least from the perspective of the salespeople, as they represent a small proportion of their transactions. Moreover, the alternative of trying to fill in both columns seems much more risky.\n",
    "    \n",
    "With respect to the products, these are the numbers:\n",
    "    \n"
   ]
  },
  {
   "cell_type": "code",
   "execution_count": 32,
   "metadata": {},
   "outputs": [
    {
     "data": {
      "text/plain": [
       "2689    39.285714\n",
       "2675    35.416667\n",
       "4061    25.000000\n",
       "2780    22.727273\n",
       "4351    18.181818\n",
       "2686    16.666667\n",
       "2707    14.285714\n",
       "2690    14.084507\n",
       "2691    12.903226\n",
       "2670    12.765957\n",
       "Name: Prod, dtype: float64"
      ]
     },
     "execution_count": 32,
     "metadata": {},
     "output_type": "execute_result"
    }
   ],
   "source": [
    "propP = 100 * nas.Prod.value_counts()/totP\n",
    "propP.sort_values(ascending=False)[0:10]"
   ]
  },
  {
   "cell_type": "markdown",
   "metadata": {},
   "source": [
    "\n",
    "\n",
    "Here are several products that would have more than 20% of their transactions removed; and in particular, product p2689 would have almost 40% of them removed. This seems clearly too much. On the other hand, if we decide 176 Data Mining with R: Learning with Case Studies to fill in these unknown values, the only reasonable strategy is to use the information on the “complete” transactions of the same product. This would mean to fill in 40% of the transactions of a product using the information of the\n",
    "remaining 60%. This also seems unreasonable.\n"
   ]
  },
  {
   "cell_type": "markdown",
   "metadata": {},
   "source": [
    "\n",
    "In summary, the option of removing all transactions with unknown values on\n",
    "both the quantity and the value is the best option we have:\n",
    "\n"
   ]
  },
  {
   "cell_type": "code",
   "execution_count": 33,
   "metadata": {},
   "outputs": [],
   "source": [
    "df = df.dropna(subset=['Quant', 'Val'], how='all')"
   ]
  },
  {
   "cell_type": "markdown",
   "metadata": {},
   "source": [
    "\n",
    "Let us now analyze the remaining reports with unknown values in either the\n",
    "quantity or the value of the transaction. We start by calculating the proportion\n",
    "of transactions of each product that have the quantity unknown:\n",
    "    \n"
   ]
  },
  {
   "cell_type": "code",
   "execution_count": 34,
   "metadata": {},
   "outputs": [
    {
     "data": {
      "text/plain": [
       "2443    1.000000\n",
       "2442    1.000000\n",
       "1653    0.909091\n",
       "4101    0.857143\n",
       "4243    0.684211\n",
       "903     0.666667\n",
       "3678    0.666667\n",
       "3955    0.642857\n",
       "4464    0.636364\n",
       "1261    0.633333\n",
       "dtype: float64"
      ]
     },
     "execution_count": 34,
     "metadata": {},
     "output_type": "execute_result"
    }
   ],
   "source": [
    "nnasQp = df.groupby(df.Prod).apply(lambda x: sum(x.Quant.isna()))\n",
    "propNAsQp = nnasQp/df.Prod.value_counts()\n",
    "propNAsQp.sort_values(ascending=False)[0:10]"
   ]
  },
  {
   "cell_type": "markdown",
   "metadata": {},
   "source": [
    "\n",
    "There are two products (p2442 and p2443) that have all their transactions\n",
    "with unknown values of the quantity. Without further information it is virtually impossible to do anything with the transactions of these products because\n",
    "we are unable to calculate their typical unit price.\n"
   ]
  },
  {
   "cell_type": "code",
   "execution_count": 35,
   "metadata": {},
   "outputs": [
    {
     "data": {
      "text/plain": [
       "ID           54\n",
       "Prod         54\n",
       "Quant         0\n",
       "Val          54\n",
       "Insp         54\n",
       "UnitPrice     0\n",
       "dtype: int64"
      ]
     },
     "execution_count": 35,
     "metadata": {},
     "output_type": "execute_result"
    }
   ],
   "source": [
    "df.loc[(df.Prod == 2442) | (df.Prod == 2443)].count()"
   ]
  },
  {
   "cell_type": "code",
   "execution_count": 36,
   "metadata": {},
   "outputs": [
    {
     "data": {
      "text/plain": [
       "ID           2\n",
       "Prod         2\n",
       "Quant        0\n",
       "Val          2\n",
       "Insp         2\n",
       "UnitPrice    0\n",
       "dtype: int64"
      ]
     },
     "execution_count": 36,
     "metadata": {},
     "output_type": "execute_result"
    }
   ],
   "source": [
    "df.loc[((df.Prod == 2442) | (df.Prod == 2443)) & (df.Insp == 'fraud')].count()"
   ]
  },
  {
   "cell_type": "code",
   "execution_count": 37,
   "metadata": {},
   "outputs": [
    {
     "data": {
      "text/plain": [
       "ID           1\n",
       "Prod         1\n",
       "Quant        0\n",
       "Val          1\n",
       "Insp         1\n",
       "UnitPrice    0\n",
       "dtype: int64"
      ]
     },
     "execution_count": 37,
     "metadata": {},
     "output_type": "execute_result"
    }
   ],
   "source": [
    "df.loc[((df.Prod == 2442) | (df.Prod == 2443)) & (df.Insp == 'ok')].count()"
   ]
  },
  {
   "cell_type": "markdown",
   "metadata": {},
   "source": [
    "\n",
    "\n",
    "These are 54 reports, and two of them are tagged as frauds while another was found to be OK. This must mean that either the inspectors had more information than given in this dataset, or we are probably facing typing errors as it seems unfeasible to conclude anything on these transactions. In this context, we will delete them:\n",
    "    \n"
   ]
  },
  {
   "cell_type": "code",
   "execution_count": 38,
   "metadata": {},
   "outputs": [],
   "source": [
    "df = df[(df.Prod != 2442) & (df.Prod != 2443)]"
   ]
  },
  {
   "cell_type": "code",
   "execution_count": 39,
   "metadata": {},
   "outputs": [
    {
     "data": {
      "text/plain": [
       "4546"
      ]
     },
     "execution_count": 39,
     "metadata": {},
     "output_type": "execute_result"
    }
   ],
   "source": [
    "df.Prod.nunique()"
   ]
  },
  {
   "cell_type": "code",
   "execution_count": 40,
   "metadata": {},
   "outputs": [
    {
     "data": {
      "text/plain": [
       "5537    1.000000\n",
       "5836    1.000000\n",
       "6065    1.000000\n",
       "6058    1.000000\n",
       "2925    1.000000\n",
       "4368    0.888889\n",
       "2923    0.875000\n",
       "2970    0.857143\n",
       "4910    0.833333\n",
       "4542    0.809524\n",
       "dtype: float64"
      ]
     },
     "execution_count": 40,
     "metadata": {},
     "output_type": "execute_result"
    }
   ],
   "source": [
    "nnasQs = df.groupby(df.ID).apply(lambda x: sum(x.Quant.isna()))\n",
    "propNAsQs = nnasQs/df.ID.value_counts()\n",
    "propNAsQs.sort_values(ascending=False)[0:10]"
   ]
  },
  {
   "cell_type": "markdown",
   "metadata": {},
   "source": [
    "\n",
    "\n",
    "As we can see, there are several salespeople who have not filled in the\n",
    "information on the quantity in their reports. However, in this case the problem\n",
    "is not so serious. In effect, as long as we have other transactions of the same\n",
    "products reported by other salespeople, we can try to use this information\n",
    "to fill in these unknowns using the assumption that the unit price should be\n",
    "similar. Because of this, we will not delete these transactions.\n",
    "We will now carry out a similar analysis for the transactions with an unknown value in the Val column. First, the proportion of transactions of each\n",
    "product with unknown value in this column:\n",
    "    "
   ]
  },
  {
   "cell_type": "code",
   "execution_count": 41,
   "metadata": {},
   "outputs": [
    {
     "data": {
      "text/plain": [
       "1110    0.250000\n",
       "1022    0.176471\n",
       "4491    0.100000\n",
       "1462    0.075000\n",
       "80      0.062500\n",
       "4307    0.058824\n",
       "4471    0.058824\n",
       "2821    0.053892\n",
       "4287    0.052632\n",
       "1017    0.052632\n",
       "dtype: float64"
      ]
     },
     "execution_count": 41,
     "metadata": {},
     "output_type": "execute_result"
    }
   ],
   "source": [
    "nnasVp = df.groupby(df.Prod).apply(lambda x: sum(x.Val.isna()))\n",
    "propNAsVp = nnasVp/df.Prod.value_counts()\n",
    "propNAsVp.sort_values(ascending=False)[0:10]"
   ]
  },
  {
   "cell_type": "markdown",
   "metadata": {},
   "source": [
    "\n",
    "The numbers are reasonable so it does not make sense to delete these\n",
    "transactions as we may try to fill in these holes using the other transactions.\n",
    "With respect to salesperson, the numbers are as follows:\n",
    "\n"
   ]
  },
  {
   "cell_type": "code",
   "execution_count": 42,
   "metadata": {},
   "outputs": [
    {
     "data": {
      "text/plain": [
       "5647    0.375000\n",
       "74      0.222222\n",
       "5946    0.200000\n",
       "5290    0.153846\n",
       "4472    0.125000\n",
       "4022    0.097561\n",
       "975     0.095745\n",
       "2814    0.090909\n",
       "2892    0.090909\n",
       "3739    0.083333\n",
       "dtype: float64"
      ]
     },
     "execution_count": 42,
     "metadata": {},
     "output_type": "execute_result"
    }
   ],
   "source": [
    "nnasVs = df.groupby(df.ID).apply(lambda x: sum(x.Val.isna()))\n",
    "propNAsVs = nnasVs/df.ID.value_counts()\n",
    "propNAsVs.sort_values(ascending=False)[0:10]"
   ]
  },
  {
   "cell_type": "markdown",
   "metadata": {},
   "source": [
    "\n",
    "Once again, the proportions are not too high.\n",
    "    \n",
    "At this stage we have removed all reports that had insufficient information\n",
    "to be subject to a fill-in strategy. For the remaining unknown values, we will\n",
    "apply a method based on the assumption that transactions of the same products should have a similar unit price. We will start by obtaining this typical\n",
    "unit price for each product. We will skip the prices of transactions that were\n",
    "found to be frauds in the calculation of the typical price. For the remaining\n",
    "transactions we will use the median unit price of the transactions as the typical\n",
    "price of the respective products:\n",
    "\n"
   ]
  },
  {
   "cell_type": "code",
   "execution_count": 43,
   "metadata": {},
   "outputs": [
    {
     "data": {
      "text/plain": [
       "Prod\n",
       "1       11.428571\n",
       "2       10.877863\n",
       "3       10.000000\n",
       "4        9.911243\n",
       "5       11.000000\n",
       "          ...    \n",
       "4544     2.080603\n",
       "4545     5.279853\n",
       "4546    37.196328\n",
       "4547     9.901961\n",
       "4548     8.796992\n",
       "Name: UnitPrice, Length: 4546, dtype: float64"
      ]
     },
     "execution_count": 43,
     "metadata": {},
     "output_type": "execute_result"
    }
   ],
   "source": [
    "tPrice = df[df.Insp != 'fraud'].groupby(df.Prod).median()['UnitPrice']\n",
    "tPrice"
   ]
  },
  {
   "cell_type": "markdown",
   "metadata": {},
   "source": [
    "\n",
    "\n",
    "Having a typical unit price for each product, we can use it to calculate any\n",
    "of the two possibly missing values (Quant and Val). This is possible because\n",
    "we currently have no transactions with both values missing. The following\n",
    "code fills in all remaining unknown values:\n",
    "    \n"
   ]
  },
  {
   "cell_type": "code",
   "execution_count": 44,
   "metadata": {},
   "outputs": [
    {
     "data": {
      "text/plain": [
       "12900"
      ]
     },
     "execution_count": 44,
     "metadata": {},
     "output_type": "execute_result"
    }
   ],
   "source": [
    "df.Quant.isna().sum()"
   ]
  },
  {
   "cell_type": "code",
   "execution_count": 45,
   "metadata": {},
   "outputs": [],
   "source": [
    "tPrices = tPrice[df[df.Quant.isna()].Prod]\n",
    "tPrices.index = df[df.Quant.isna()].index\n",
    "df.loc[df.Quant.isna(), 'Quant'] = np.ceil(df[df.Quant.isna()].Val/tPrices)"
   ]
  },
  {
   "cell_type": "code",
   "execution_count": 46,
   "metadata": {},
   "outputs": [
    {
     "data": {
      "text/plain": [
       "0"
      ]
     },
     "execution_count": 46,
     "metadata": {},
     "output_type": "execute_result"
    }
   ],
   "source": [
    "df.Quant.isna().sum()"
   ]
  },
  {
   "cell_type": "code",
   "execution_count": 47,
   "metadata": {},
   "outputs": [
    {
     "data": {
      "text/plain": [
       "294"
      ]
     },
     "execution_count": 47,
     "metadata": {},
     "output_type": "execute_result"
    }
   ],
   "source": [
    "df.Val.isna().sum()"
   ]
  },
  {
   "cell_type": "code",
   "execution_count": 48,
   "metadata": {},
   "outputs": [],
   "source": [
    "tPrices2 = tPrice[df[df.Val.isna()].Prod]\n",
    "tPrices2.index = df[df.Val.isna()].index\n",
    "df.loc[df.Val.isna(), 'Val'] = np.ceil(df[df.Val.isna()].Quant * tPrices2)"
   ]
  },
  {
   "cell_type": "code",
   "execution_count": 49,
   "metadata": {},
   "outputs": [
    {
     "data": {
      "text/plain": [
       "0"
      ]
     },
     "execution_count": 49,
     "metadata": {},
     "output_type": "execute_result"
    }
   ],
   "source": [
    "df.Val.isna().sum()"
   ]
  },
  {
   "cell_type": "markdown",
   "metadata": {},
   "source": [
    "\n",
    "\n",
    "We have just filled in 12,900 unknown quantity values plus 294 total values of transaction. Given that we now have all Quant and Val values, we can recalculate the UnitPrice column to fill in the previously unknown unit prices:\n",
    "    \n"
   ]
  },
  {
   "cell_type": "code",
   "execution_count": 50,
   "metadata": {},
   "outputs": [],
   "source": [
    "df.UnitPrice = df.Val/df.Quant "
   ]
  },
  {
   "cell_type": "markdown",
   "metadata": {},
   "source": [
    "\n",
    "\n",
    "After all these pre-processing steps, we have a dataset free of unknown\n",
    "values. For future analysis, it makes sense that you save this current state of\n",
    "the sales data frame so that you can restart your analysis from this point,\n",
    "without having to repeat all the steps. We can save the data frame as follows:\n"
   ]
  },
  {
   "cell_type": "code",
   "execution_count": 51,
   "metadata": {},
   "outputs": [],
   "source": [
    "df.to_excel('salesClean.xlsx')"
   ]
  },
  {
   "cell_type": "markdown",
   "metadata": {},
   "source": [
    "\n",
    "For each product we can also find the median and IQR of the Unit Price.\n",
    "\n"
   ]
  },
  {
   "cell_type": "code",
   "execution_count": 52,
   "metadata": {},
   "outputs": [
    {
     "data": {
      "text/html": [
       "<div>\n",
       "<style scoped>\n",
       "    .dataframe tbody tr th:only-of-type {\n",
       "        vertical-align: middle;\n",
       "    }\n",
       "\n",
       "    .dataframe tbody tr th {\n",
       "        vertical-align: top;\n",
       "    }\n",
       "\n",
       "    .dataframe thead th {\n",
       "        text-align: right;\n",
       "    }\n",
       "</style>\n",
       "<table border=\"1\" class=\"dataframe\">\n",
       "  <thead>\n",
       "    <tr style=\"text-align: right;\">\n",
       "      <th></th>\n",
       "      <th>medians</th>\n",
       "      <th>iqrs</th>\n",
       "    </tr>\n",
       "  </thead>\n",
       "  <tbody>\n",
       "    <tr>\n",
       "      <th>1</th>\n",
       "      <td>11.346153846153847</td>\n",
       "      <td>8.56357993548007</td>\n",
       "    </tr>\n",
       "    <tr>\n",
       "      <th>2</th>\n",
       "      <td>10.877862595419847</td>\n",
       "      <td>5.6097314758732075</td>\n",
       "    </tr>\n",
       "    <tr>\n",
       "      <th>3</th>\n",
       "      <td>10.0</td>\n",
       "      <td>4.809091958714168</td>\n",
       "    </tr>\n",
       "    <tr>\n",
       "      <th>4</th>\n",
       "      <td>9.911242603550296</td>\n",
       "      <td>5.998529666817149</td>\n",
       "    </tr>\n",
       "    <tr>\n",
       "      <th>5</th>\n",
       "      <td>10.957446808510639</td>\n",
       "      <td>7.136600902415289</td>\n",
       "    </tr>\n",
       "  </tbody>\n",
       "</table>\n",
       "</div>"
      ],
      "text/plain": [
       "              medians                iqrs\n",
       "1  11.346153846153847    8.56357993548007\n",
       "2  10.877862595419847  5.6097314758732075\n",
       "3                10.0   4.809091958714168\n",
       "4   9.911242603550296   5.998529666817149\n",
       "5  10.957446808510639   7.136600902415289"
      ]
     },
     "execution_count": 52,
     "metadata": {},
     "output_type": "execute_result"
    }
   ],
   "source": [
    "stats2 = df[df.Insp != 'fraud'].dropna().groupby('Prod').apply(lambda x: boxplot_stats(x.UnitPrice))\n",
    "pattern2 = \"'med': ([0-9.]*)\"\n",
    "pattern3 = \"'iqr': ([0-9.]*)\"\n",
    "\n",
    "medians = []\n",
    "iqrs = []\n",
    "\n",
    "for i in range(1,len(stats2)):\n",
    "    try:\n",
    "        string = \"\"\n",
    "        if (re.search(pattern2, str(stats2[i]), flags = re.DOTALL)):\n",
    "            string = re.search(pattern2, str(stats2[i]), flags = re.DOTALL).group(1)\n",
    "            medians.append(string)\n",
    "        if (re.search(pattern3, str(stats2[i]), flags = re.DOTALL)):\n",
    "            string = re.search(pattern3, str(stats2[i]), flags = re.DOTALL).group(1)\n",
    "            iqrs.append(string)\n",
    "    except KeyError:\n",
    "        continue\n",
    "    \n",
    "med_iqr = pd.DataFrame({'medians': medians, 'iqrs': iqrs})\n",
    "med_iqr.index = med_iqr.index + 1\n",
    "med_iqr.sort_index().head()"
   ]
  },
  {
   "cell_type": "markdown",
   "metadata": {},
   "source": [
    "<div class=\"alert alert-block alert-info\"> \n",
    "    <b><h1> Anomaly Detection Algorithms - Unsupervised </h1></b> \n",
    "</div>"
   ]
  },
  {
   "cell_type": "markdown",
   "metadata": {},
   "source": [
    "## 1. Isolation Forest Algorithm"
   ]
  },
  {
   "cell_type": "code",
   "execution_count": 62,
   "metadata": {},
   "outputs": [],
   "source": [
    "from sklearn.ensemble import IsolationForest\n",
    "from sklearn.model_selection import train_test_split\n",
    "from sklearn import preprocessing\n",
    "import warnings\n",
    "warnings.filterwarnings('ignore')\n",
    "\n",
    "rng = np.random.RandomState(42)\n",
    "\n",
    "le = preprocessing.LabelEncoder()\n",
    "\n",
    "X = df.drop('Insp', axis=1)\n",
    "y = df.Insp\n",
    "\n",
    "y = le.fit_transform(y)\n",
    "# 0: fraud, 1: ok, 2: unkn\n",
    "\n",
    "X_train, X_test, y_train, y_test = train_test_split(X, y, test_size=0.3, random_state=rng)\n",
    "\n",
    "clf = IsolationForest(n_estimators=100, max_samples='auto', random_state=rng, contamination=float(.12))\n",
    "clf.fit(X_train)\n",
    "y_pred_test = clf.predict(X_test)\n",
    "# 1: ok, -1: fraud"
   ]
  },
  {
   "cell_type": "markdown",
   "metadata": {},
   "source": [
    "### Model Evaluation"
   ]
  },
  {
   "cell_type": "code",
   "execution_count": 64,
   "metadata": {},
   "outputs": [
    {
     "name": "stdout",
     "output_type": "stream",
     "text": [
      "Precision: 0.94\n",
      "Recall: 0.64\n"
     ]
    }
   ],
   "source": [
    "Tp = sum((y_test == 1) & (y_pred_test == 1))\n",
    "Fp = sum((y_test == 0) & (y_pred_test == 1)) # predicted 'ok', but it was actually 'fraud'\n",
    "Fn = sum((y_test == 1) & (y_pred_test == -1)) # predicted 'fraud', but it was actually 'ok' \n",
    "\n",
    "P = Tp/(Tp+Fp)\n",
    "R = Tp/(Tp+Fn)\n",
    "\n",
    "print(f'Precision: {P:.2f}')\n",
    "print(f'Recall: {R:.2f}')"
   ]
  },
  {
   "cell_type": "markdown",
   "metadata": {},
   "source": [
    "\n",
    "We can see that this algorithm can achieve very good precision score. Recall score, which is more important in our application, is also good but let's try another algorithm to see if we will have better results.\n"
   ]
  },
  {
   "cell_type": "markdown",
   "metadata": {},
   "source": [
    "## 2. Local Outlier Factor"
   ]
  },
  {
   "cell_type": "code",
   "execution_count": 65,
   "metadata": {},
   "outputs": [],
   "source": [
    "from sklearn.neighbors import LocalOutlierFactor\n",
    "from sklearn.model_selection import train_test_split\n",
    "from sklearn import preprocessing\n",
    "\n",
    "rng = np.random.RandomState(42)\n",
    "\n",
    "le = preprocessing.LabelEncoder()\n",
    "\n",
    "X = df.drop('Insp', axis=1)\n",
    "y = df.Insp\n",
    "\n",
    "y = le.fit_transform(y)\n",
    "# 0: fraud, 1: ok, 2: unkn\n",
    "\n",
    "X_train, X_test, y_train, y_test = train_test_split(X, y, test_size=0.3, random_state=rng)\n",
    "\n",
    "clf = LocalOutlierFactor(n_neighbors=20, novelty=True, contamination=0.1)\n",
    "clf.fit(X_train)\n",
    "y_pred_test = clf.predict(X_test)\n",
    "# 1: ok, -1: fraud"
   ]
  },
  {
   "cell_type": "markdown",
   "metadata": {},
   "source": [
    "### Model Evaluation"
   ]
  },
  {
   "cell_type": "code",
   "execution_count": 66,
   "metadata": {},
   "outputs": [
    {
     "name": "stdout",
     "output_type": "stream",
     "text": [
      "Precision: 0.94\n",
      "Recall: 0.92\n"
     ]
    }
   ],
   "source": [
    "Tp = sum((y_test == 1) & (y_pred_test == 1))\n",
    "Fp = sum((y_test == 0) & (y_pred_test == 1)) # predicted 'ok', but it was actually 'fraud'\n",
    "Fn = sum((y_test == 1) & (y_pred_test == -1)) # predicted 'fraud', but it was actually 'ok' \n",
    "\n",
    "P = Tp/(Tp+Fp)\n",
    "R = Tp/(Tp+Fn)\n",
    "\n",
    "print(f'Precision: {P:.2f}')\n",
    "print(f'Recall: {R:.2f}')"
   ]
  },
  {
   "cell_type": "markdown",
   "metadata": {},
   "source": [
    "\n",
    "\n",
    "We can observe that the second algorithm (LOF) has better results than the first one. It manages to achieve both great Precision and Recall scores.\n"
   ]
  }
 ],
 "metadata": {
  "kernelspec": {
   "display_name": "Python 3",
   "language": "python",
   "name": "python3"
  },
  "language_info": {
   "codemirror_mode": {
    "name": "ipython",
    "version": 3
   },
   "file_extension": ".py",
   "mimetype": "text/x-python",
   "name": "python",
   "nbconvert_exporter": "python",
   "pygments_lexer": "ipython3",
   "version": "3.8.5"
  },
  "latex_envs": {
   "LaTeX_envs_menu_present": true,
   "autoclose": false,
   "autocomplete": false,
   "bibliofile": "biblio.bib",
   "cite_by": "apalike",
   "current_citInitial": 1,
   "eqLabelWithNumbers": true,
   "eqNumInitial": 1,
   "hotkeys": {
    "equation": "Ctrl-E",
    "itemize": "Ctrl-I"
   },
   "labels_anchors": false,
   "latex_user_defs": false,
   "report_style_numbering": false,
   "user_envs_cfg": false
  },
  "varInspector": {
   "cols": {
    "lenName": 16,
    "lenType": 16,
    "lenVar": 40
   },
   "kernels_config": {
    "python": {
     "delete_cmd_postfix": "",
     "delete_cmd_prefix": "del ",
     "library": "var_list.py",
     "varRefreshCmd": "print(var_dic_list())"
    },
    "r": {
     "delete_cmd_postfix": ") ",
     "delete_cmd_prefix": "rm(",
     "library": "var_list.r",
     "varRefreshCmd": "cat(var_dic_list()) "
    }
   },
   "types_to_exclude": [
    "module",
    "function",
    "builtin_function_or_method",
    "instance",
    "_Feature"
   ],
   "window_display": false
  }
 },
 "nbformat": 4,
 "nbformat_minor": 4
}
